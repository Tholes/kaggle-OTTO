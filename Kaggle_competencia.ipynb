{
  "cells": [
    {
      "cell_type": "markdown",
      "metadata": {
        "id": "ct2btct0ZxMP"
      },
      "source": [
        "# **OTTO Recommender**\n",
        "\n",
        "**Integrantes:**\n",
        "- Jakelin Daiana Correa Palacio\n",
        "- Daniela Guardia Cuervo\n",
        "- Dayra Gabriela Chamorro Revelo\n",
        "- Fredy Alberto Orozco Loaiza (Además presentó certificado de participación en Datatón Bancolombia)\n",
        "- Cristian Camilo Henao Rojas\n",
        "\n",
        "# Introducción\n",
        "\n",
        "El objetivo de este trabajo es presentar una solución al problema descrito en la competencia de Kaggle [OTTO – Multi-Objective Recommender System](https://www.kaggle.com/competitions/otto-recommender-system/overview). El objetivo de esta competencia es predecir los clics de comercio electrónico, las adiciones al carrito y los pedidos mediante un sistema de recomendación multiobjetivo basado en eventos anteriores en una sesión de usuario.\n",
        "\n"
      ]
    },
    {
      "cell_type": "markdown",
      "metadata": {
        "id": "_TFvTPc_t_pM"
      },
      "source": [
        "## Importe de librerías"
      ]
    },
    {
      "cell_type": "code",
      "execution_count": 1,
      "metadata": {
        "id": "4NoLK7Yfew3v"
      },
      "outputs": [],
      "source": [
        "# importamos libreías a utilizar\n",
        "import pandas as pd\n",
        "import numpy as np"
      ]
    },
    {
      "cell_type": "markdown",
      "metadata": {
        "id": "0CaGx8enuEOu"
      },
      "source": [
        "### Datos"
      ]
    },
    {
      "cell_type": "markdown",
      "metadata": {
        "id": "y-wHn_AJubiD"
      },
      "source": [
        "\n",
        "El dataset contiene información acerca de las sesiones de ususarios y los eventos registrados durante esa session.\n",
        "Los campos son: \n",
        "- session: el id de la sesión.\n",
        "- **aid:** id del artículo seleccionado.\n",
        "- **ts:** el tiempo en el que ocurrió el evento (Tiempo Unix: cantidad de segundos transcurridos desde la medianoche UTC del 1 de enero de 1970)\n",
        "- **type:** tipo de evento con tres valores: 0 --> le dio click, 1 --> lo agregó al carrito, 2 --> lo ordenó."
      ]
    },
    {
      "cell_type": "markdown",
      "metadata": {
        "id": "Y_yVf-86krvy"
      },
      "source": [
        "Se usa un [dataset optimizado](https://www.kaggle.com/datasets/radek1/otto-full-optimized-memory-footprint), para ahorrar el consumo de ram en el lab."
      ]
    },
    {
      "cell_type": "code",
      "execution_count": 31,
      "metadata": {
        "id": "wjqT-BSqpZwv"
      },
      "outputs": [],
      "source": [
        "# leemos los datasets de entrenamiento y testeo\n",
        "df_train = pd.read_parquet('train.parquet')\n",
        "df_test = pd.read_parquet('test.parquet')"
      ]
    },
    {
      "cell_type": "code",
      "execution_count": 32,
      "metadata": {
        "colab": {
          "base_uri": "https://localhost:8080/"
        },
        "id": "UlhsrPB7xMKE",
        "outputId": "cf81e38f-fb1a-42c0-870b-8466bb4bd7a9"
      },
      "outputs": [
        {
          "data": {
            "text/plain": [
              "(216716096, 4)"
            ]
          },
          "execution_count": 32,
          "metadata": {},
          "output_type": "execute_result"
        }
      ],
      "source": [
        "# observamos el tamaño del dataset de entrenamiento\n",
        "df_train.shape"
      ]
    },
    {
      "cell_type": "code",
      "execution_count": 33,
      "metadata": {
        "colab": {
          "base_uri": "https://localhost:8080/"
        },
        "id": "UnHgREcRxOS9",
        "outputId": "922c932f-9305-4635-bf24-4779d739afee"
      },
      "outputs": [
        {
          "data": {
            "text/plain": [
              "(6928123, 4)"
            ]
          },
          "execution_count": 33,
          "metadata": {},
          "output_type": "execute_result"
        }
      ],
      "source": [
        "# observamos el tamaño del dataset de testeo\n",
        "df_test.shape"
      ]
    },
    {
      "cell_type": "code",
      "execution_count": 34,
      "metadata": {
        "id": "nmBkIjZRvbB8"
      },
      "outputs": [],
      "source": [
        "#df_train = df_train.sample(1000000, random_state= 42)\n",
        "#df_test = df_test.sample(100000, random_state= 42)"
      ]
    },
    {
      "cell_type": "code",
      "execution_count": 35,
      "metadata": {
        "colab": {
          "base_uri": "https://localhost:8080/",
          "height": 206
        },
        "id": "9v4WlugrAbSB",
        "outputId": "5d26aa99-b7ae-417a-b38a-92e7b0a2e621"
      },
      "outputs": [
        {
          "data": {
            "text/html": [
              "<div>\n",
              "<style scoped>\n",
              "    .dataframe tbody tr th:only-of-type {\n",
              "        vertical-align: middle;\n",
              "    }\n",
              "\n",
              "    .dataframe tbody tr th {\n",
              "        vertical-align: top;\n",
              "    }\n",
              "\n",
              "    .dataframe thead th {\n",
              "        text-align: right;\n",
              "    }\n",
              "</style>\n",
              "<table border=\"1\" class=\"dataframe\">\n",
              "  <thead>\n",
              "    <tr style=\"text-align: right;\">\n",
              "      <th></th>\n",
              "      <th>session</th>\n",
              "      <th>aid</th>\n",
              "      <th>ts</th>\n",
              "      <th>type</th>\n",
              "    </tr>\n",
              "  </thead>\n",
              "  <tbody>\n",
              "    <tr>\n",
              "      <th>0</th>\n",
              "      <td>0</td>\n",
              "      <td>1517085</td>\n",
              "      <td>1659304800</td>\n",
              "      <td>0</td>\n",
              "    </tr>\n",
              "    <tr>\n",
              "      <th>1</th>\n",
              "      <td>0</td>\n",
              "      <td>1563459</td>\n",
              "      <td>1659304904</td>\n",
              "      <td>0</td>\n",
              "    </tr>\n",
              "    <tr>\n",
              "      <th>2</th>\n",
              "      <td>0</td>\n",
              "      <td>1309446</td>\n",
              "      <td>1659367439</td>\n",
              "      <td>0</td>\n",
              "    </tr>\n",
              "    <tr>\n",
              "      <th>3</th>\n",
              "      <td>0</td>\n",
              "      <td>16246</td>\n",
              "      <td>1659367719</td>\n",
              "      <td>0</td>\n",
              "    </tr>\n",
              "    <tr>\n",
              "      <th>4</th>\n",
              "      <td>0</td>\n",
              "      <td>1781822</td>\n",
              "      <td>1659367871</td>\n",
              "      <td>0</td>\n",
              "    </tr>\n",
              "  </tbody>\n",
              "</table>\n",
              "</div>"
            ],
            "text/plain": [
              "   session      aid          ts  type\n",
              "0        0  1517085  1659304800     0\n",
              "1        0  1563459  1659304904     0\n",
              "2        0  1309446  1659367439     0\n",
              "3        0    16246  1659367719     0\n",
              "4        0  1781822  1659367871     0"
            ]
          },
          "execution_count": 35,
          "metadata": {},
          "output_type": "execute_result"
        }
      ],
      "source": [
        "# observamos las primeras filas del dataset de entrenamiento\n",
        "df_train.head()"
      ]
    },
    {
      "cell_type": "code",
      "execution_count": 36,
      "metadata": {
        "colab": {
          "base_uri": "https://localhost:8080/",
          "height": 206
        },
        "id": "kfHQNTOscX5R",
        "outputId": "9246fa8c-a270-4852-b675-52133effa73b"
      },
      "outputs": [
        {
          "data": {
            "text/html": [
              "<div>\n",
              "<style scoped>\n",
              "    .dataframe tbody tr th:only-of-type {\n",
              "        vertical-align: middle;\n",
              "    }\n",
              "\n",
              "    .dataframe tbody tr th {\n",
              "        vertical-align: top;\n",
              "    }\n",
              "\n",
              "    .dataframe thead th {\n",
              "        text-align: right;\n",
              "    }\n",
              "</style>\n",
              "<table border=\"1\" class=\"dataframe\">\n",
              "  <thead>\n",
              "    <tr style=\"text-align: right;\">\n",
              "      <th></th>\n",
              "      <th>session</th>\n",
              "      <th>aid</th>\n",
              "      <th>ts</th>\n",
              "      <th>type</th>\n",
              "    </tr>\n",
              "  </thead>\n",
              "  <tbody>\n",
              "    <tr>\n",
              "      <th>0</th>\n",
              "      <td>12899779</td>\n",
              "      <td>59625</td>\n",
              "      <td>1661724000</td>\n",
              "      <td>0</td>\n",
              "    </tr>\n",
              "    <tr>\n",
              "      <th>1</th>\n",
              "      <td>12899780</td>\n",
              "      <td>1142000</td>\n",
              "      <td>1661724000</td>\n",
              "      <td>0</td>\n",
              "    </tr>\n",
              "    <tr>\n",
              "      <th>2</th>\n",
              "      <td>12899780</td>\n",
              "      <td>582732</td>\n",
              "      <td>1661724058</td>\n",
              "      <td>0</td>\n",
              "    </tr>\n",
              "    <tr>\n",
              "      <th>3</th>\n",
              "      <td>12899780</td>\n",
              "      <td>973453</td>\n",
              "      <td>1661724109</td>\n",
              "      <td>0</td>\n",
              "    </tr>\n",
              "    <tr>\n",
              "      <th>4</th>\n",
              "      <td>12899780</td>\n",
              "      <td>736515</td>\n",
              "      <td>1661724136</td>\n",
              "      <td>0</td>\n",
              "    </tr>\n",
              "  </tbody>\n",
              "</table>\n",
              "</div>"
            ],
            "text/plain": [
              "    session      aid          ts  type\n",
              "0  12899779    59625  1661724000     0\n",
              "1  12899780  1142000  1661724000     0\n",
              "2  12899780   582732  1661724058     0\n",
              "3  12899780   973453  1661724109     0\n",
              "4  12899780   736515  1661724136     0"
            ]
          },
          "execution_count": 36,
          "metadata": {},
          "output_type": "execute_result"
        }
      ],
      "source": [
        "# observamos las primeras filas del dataset de testeo\n",
        "df_test.head()"
      ]
    },
    {
      "cell_type": "code",
      "execution_count": 37,
      "metadata": {
        "colab": {
          "base_uri": "https://localhost:8080/"
        },
        "id": "Pem4Zhz34uFS",
        "outputId": "0a2d1377-bd79-46ee-b605-7ad19fb55bc0"
      },
      "outputs": [
        {
          "data": {
            "text/plain": [
              "session\n",
              "14086824    458\n",
              "13352358    433\n",
              "13242700    421\n",
              "13234219    407\n",
              "13346726    406\n",
              "           ... \n",
              "13675903      1\n",
              "13675907      1\n",
              "13675908      1\n",
              "13675909      1\n",
              "14571581      1\n",
              "Length: 1671803, dtype: int64"
            ]
          },
          "execution_count": 37,
          "metadata": {},
          "output_type": "execute_result"
        }
      ],
      "source": [
        "# observamos la cantidad de eventos por sesión en el dataset de prueba\n",
        "df_test.value_counts('session')"
      ]
    },
    {
      "cell_type": "code",
      "execution_count": 38,
      "metadata": {
        "colab": {
          "base_uri": "https://localhost:8080/"
        },
        "id": "6fIjpSNPBaxg",
        "outputId": "97670ab7-1171-4f8f-d52e-a6915ad0ccce"
      },
      "outputs": [
        {
          "data": {
            "text/plain": [
              "session\n",
              "6265682     500\n",
              "4110619     500\n",
              "10776795    499\n",
              "1870739     499\n",
              "2473055     498\n",
              "           ... \n",
              "10731401      2\n",
              "6311756       2\n",
              "10731403      2\n",
              "10731405      2\n",
              "12899778      2\n",
              "Length: 12899779, dtype: int64"
            ]
          },
          "execution_count": 38,
          "metadata": {},
          "output_type": "execute_result"
        }
      ],
      "source": [
        "# observamos la cantidad de eventos por sesión en el dataset de entrenamiento\n",
        "df_train.value_counts('session')"
      ]
    },
    {
      "cell_type": "markdown",
      "metadata": {
        "id": "2Cq4VUwYZv-Y"
      },
      "source": []
    },
    {
      "cell_type": "code",
      "execution_count": 39,
      "metadata": {
        "colab": {
          "base_uri": "https://localhost:8080/"
        },
        "id": "PF_fm5c3CUJ4",
        "outputId": "f9e3ca32-6a44-450b-cb12-16897cb3663f"
      },
      "outputs": [
        {
          "data": {
            "text/plain": [
              "array([0, 1, 2], dtype=uint8)"
            ]
          },
          "execution_count": 39,
          "metadata": {},
          "output_type": "execute_result"
        }
      ],
      "source": [
        "# observamos los posibles tipos de evento \n",
        "df_train.type.unique()"
      ]
    },
    {
      "cell_type": "markdown",
      "metadata": {
        "id": "10Iuq1_EDDGV"
      },
      "source": [
        "Se presencian 3 tipos de evento, donde 0 indica que el usuario dió click sobre un producto, 1 indica que agregó un producto al carrito y 2 indica que compró un producto."
      ]
    },
    {
      "cell_type": "code",
      "execution_count": 40,
      "metadata": {
        "id": "SWdIepFfJ4gW"
      },
      "outputs": [],
      "source": [
        "# definimos funciones a utilizar\n",
        "\n",
        "# función que toma los últimos 20 productos del dataframe y los retorna en una lista\n",
        "def last_20(df):\n",
        "  return list(df.tail(20)['aid'])\n",
        "\n",
        "# función que une los productos según el evento con el top 20 de productos y toma sólo los primeros, además los convierte a str y los une mediante espacio\n",
        "def refill_top_20(labels):\n",
        "  return ' '.join(map(str, (labels + products_top20)[:20]))"
      ]
    },
    {
      "cell_type": "code",
      "execution_count": 41,
      "metadata": {
        "id": "9XW5KKN-Ran7"
      },
      "outputs": [],
      "source": [
        "# obtenemos la cantidad de sesiones en el dataset de entrenamiento\n",
        "session_count = len(pd.unique(df_train['session']))\n",
        "# obtenemos la cantidad de productos registrados en el dataset de entrenamiento\n",
        "items_count = len(pd.unique(df_train['aid']))\n",
        "# obtenemos la cantidad de eventos en el dataset de entrenamiento\n",
        "events_count = df_train['type'].count()\n",
        "# obtenemos la cantidad de eventos según su tipo en el dataset de entrenamiento\n",
        "events = df_train['type'].value_counts()"
      ]
    },
    {
      "cell_type": "code",
      "execution_count": 42,
      "metadata": {
        "colab": {
          "base_uri": "https://localhost:8080/",
          "height": 81
        },
        "id": "3j4neFnOV5qQ",
        "outputId": "77ef62b7-7820-4e20-a4e8-6a48beb1480a"
      },
      "outputs": [
        {
          "data": {
            "text/html": [
              "<div>\n",
              "<style scoped>\n",
              "    .dataframe tbody tr th:only-of-type {\n",
              "        vertical-align: middle;\n",
              "    }\n",
              "\n",
              "    .dataframe tbody tr th {\n",
              "        vertical-align: top;\n",
              "    }\n",
              "\n",
              "    .dataframe thead th {\n",
              "        text-align: right;\n",
              "    }\n",
              "</style>\n",
              "<table border=\"1\" class=\"dataframe\">\n",
              "  <thead>\n",
              "    <tr style=\"text-align: right;\">\n",
              "      <th></th>\n",
              "      <th>#sessions</th>\n",
              "      <th>#items</th>\n",
              "      <th>#events</th>\n",
              "      <th>#clicks</th>\n",
              "      <th>#carts</th>\n",
              "      <th>#orders</th>\n",
              "    </tr>\n",
              "  </thead>\n",
              "  <tbody>\n",
              "    <tr>\n",
              "      <th>train</th>\n",
              "      <td>12899779</td>\n",
              "      <td>1855603</td>\n",
              "      <td>216716096</td>\n",
              "      <td>194720954</td>\n",
              "      <td>16896191</td>\n",
              "      <td>5098951</td>\n",
              "    </tr>\n",
              "  </tbody>\n",
              "</table>\n",
              "</div>"
            ],
            "text/plain": [
              "       #sessions   #items    #events    #clicks    #carts  #orders\n",
              "train   12899779  1855603  216716096  194720954  16896191  5098951"
            ]
          },
          "execution_count": 42,
          "metadata": {},
          "output_type": "execute_result"
        }
      ],
      "source": [
        "# observamos resumen de datos del dataset de entrenamiento\n",
        "data = [[session_count, items_count, events_count, events[0], events[1], events[2]]]\n",
        "cols = ['#sessions', '#items', '#events', '#clicks', '#carts', '#orders']\n",
        "row = [['train']]\n",
        "summary = pd.DataFrame(data, columns=cols, index=row)\n",
        "summary"
      ]
    },
    {
      "cell_type": "code",
      "execution_count": 43,
      "metadata": {
        "colab": {
          "base_uri": "https://localhost:8080/"
        },
        "id": "766ryiC_ZxdS",
        "outputId": "54c8594b-0cef-4e4d-96b3-35f14bef33df"
      },
      "outputs": [
        {
          "name": "stdout",
          "output_type": "stream",
          "text": [
            "El 89.85071141185563% de los eventos son \"clicks\"\n",
            "El 7.796463350834817% de los eventos son \"agregar al carrito\"\n",
            "El 2.3528252373095535% de los eventos son \"ordenado\"\n"
          ]
        }
      ],
      "source": [
        "print('El ' + str(events[0]/events_count*100) + '% de los eventos son \"clicks\"')\n",
        "print('El ' + str(events[1]/events_count*100) + '% de los eventos son \"agregar al carrito\"')\n",
        "print('El ' + str(events[2]/events_count*100) + '% de los eventos son \"ordenado\"')"
      ]
    },
    {
      "cell_type": "code",
      "execution_count": 44,
      "metadata": {
        "colab": {
          "base_uri": "https://localhost:8080/"
        },
        "id": "STBcoDG9zRns",
        "outputId": "804527dc-333b-47a7-f76a-5bb849d2e31d"
      },
      "outputs": [
        {
          "name": "stdout",
          "output_type": "stream",
          "text": [
            "[129004, 126836, 118524, 113279, 105091, 91325, 90244, 84657, 80197, 79872, 78203, 76988, 76737, 74027, 74026, 71732, 68329, 66962, 65124, 64900]\n"
          ]
        }
      ],
      "source": [
        "# obtenemos la cantidad de veces que se realizó un evento sobre un producto, los ordenamos de mayor a menor y obtenemos el top 20\n",
        "products_top20 = df_train.groupby('aid').session.count()\n",
        "products_top20 = products_top20.sort_values(ascending=False)\n",
        "products_top20 = list(products_top20.head(20))\n",
        "print(products_top20)"
      ]
    },
    {
      "cell_type": "code",
      "execution_count": 45,
      "metadata": {
        "id": "ub0P2K4IcyHT"
      },
      "outputs": [
        {
          "name": "stdout",
          "output_type": "stream",
          "text": [
            "aid\n",
            "1460571    121287\n",
            "108125     114456\n",
            "29735      101148\n",
            "485256      97154\n",
            "1733943     91395\n",
            "184976      85122\n",
            "832192      81127\n",
            "1502122     73805\n",
            "554660      72161\n",
            "1603001     68519\n",
            "986164      67791\n",
            "166037      67357\n",
            "322370      66729\n",
            "1236775     66076\n",
            "231487      64994\n",
            "959208      63034\n",
            "332654      62617\n",
            "1196256     62221\n",
            "95488       62023\n",
            "620545      60816\n",
            "Name: ts, dtype: int64\n"
          ]
        }
      ],
      "source": [
        "# observamos el top 20 de los productos según el evento 'click'\n",
        "top20_clicks = df_train[df_train.type == 0].groupby('aid').ts.count().sort_values(ascending=False).head(20)\n",
        "print(top20_clicks)"
      ]
    },
    {
      "cell_type": "code",
      "execution_count": 46,
      "metadata": {
        "id": "xqbYVpOIRfcM"
      },
      "outputs": [
        {
          "name": "stdout",
          "output_type": "stream",
          "text": [
            "aid\n",
            "485256     29682\n",
            "152547     18536\n",
            "33343      14726\n",
            "166037     13476\n",
            "1733943    10654\n",
            "231487     10393\n",
            "29735      10124\n",
            "1022566     9338\n",
            "832192      8626\n",
            "544144      7407\n",
            "554660      7336\n",
            "322370      7298\n",
            "1562705     7128\n",
            "986164      7005\n",
            "1083665     6734\n",
            "332654      6679\n",
            "1629608     6659\n",
            "1236775     6224\n",
            "756588      6166\n",
            "613493      6111\n",
            "Name: ts, dtype: int64\n"
          ]
        }
      ],
      "source": [
        "# observamos el top 20 de los productos según el evento 'cart'\n",
        "top20_carts = df_train[df_train.type == 1].groupby('aid').ts.count().sort_values(ascending=False).head(20)\n",
        "print(top20_carts)"
      ]
    },
    {
      "cell_type": "code",
      "execution_count": 47,
      "metadata": {
        "id": "kESuLmHBRfPx"
      },
      "outputs": [
        {
          "name": "stdout",
          "output_type": "stream",
          "text": [
            "aid\n",
            "231487     4485\n",
            "166037     3824\n",
            "1733943    3042\n",
            "1445562    2998\n",
            "1022566    2788\n",
            "801774     2710\n",
            "1629608    2628\n",
            "756588     2593\n",
            "332654     2436\n",
            "1603001    2353\n",
            "409620     2329\n",
            "1257293    2273\n",
            "1125638    2203\n",
            "986164     2192\n",
            "1083665    2174\n",
            "450505     2137\n",
            "544144     2096\n",
            "1025795    2071\n",
            "125278     2047\n",
            "29735      2007\n",
            "Name: ts, dtype: int64\n"
          ]
        }
      ],
      "source": [
        "# observamos el top 20 de los productos según el evento 'order'\n",
        "top20_orders = df_train[df_train.type == 2].groupby('aid').ts.count().sort_values(ascending=False).head(20)\n",
        "print(top20_orders)"
      ]
    },
    {
      "cell_type": "code",
      "execution_count": 48,
      "metadata": {
        "colab": {
          "base_uri": "https://localhost:8080/",
          "height": 35
        },
        "id": "pUlfxP0gdsEn",
        "outputId": "17e57540-06a7-431a-c2e1-cf7bdfd255b3"
      },
      "outputs": [
        {
          "data": {
            "text/plain": [
              "'1460571 108125 29735 485256 1733943 184976 832192 1502122 554660 1603001 986164 166037 322370 1236775 231487 959208 332654 1196256 95488 620545'"
            ]
          },
          "execution_count": 48,
          "metadata": {},
          "output_type": "execute_result"
        }
      ],
      "source": [
        "#Buscamos el top20 para cada tipo de evento\n",
        "\n",
        "top20_clicks = list(top20_clicks.index)\n",
        "top20_clicks_str = \" \".join(map(str,top20_clicks))\n",
        "\n",
        "top20_carts = list(top20_carts.index)\n",
        "top20_carts_str = \" \".join(map(str,top20_carts))\n",
        "\n",
        "top20_orders = list(top20_orders.index)\n",
        "top20_orders_str = \" \".join(map(str,top20_orders))\n",
        "\n",
        "top20_clicks_str"
      ]
    },
    {
      "cell_type": "code",
      "execution_count": 53,
      "metadata": {},
      "outputs": [
        {
          "data": {
            "text/html": [
              "<div>\n",
              "<style scoped>\n",
              "    .dataframe tbody tr th:only-of-type {\n",
              "        vertical-align: middle;\n",
              "    }\n",
              "\n",
              "    .dataframe tbody tr th {\n",
              "        vertical-align: top;\n",
              "    }\n",
              "\n",
              "    .dataframe thead th {\n",
              "        text-align: right;\n",
              "    }\n",
              "</style>\n",
              "<table border=\"1\" class=\"dataframe\">\n",
              "  <thead>\n",
              "    <tr style=\"text-align: right;\">\n",
              "      <th></th>\n",
              "      <th>session</th>\n",
              "      <th>0</th>\n",
              "    </tr>\n",
              "  </thead>\n",
              "  <tbody>\n",
              "    <tr>\n",
              "      <th>0</th>\n",
              "      <td>12899779</td>\n",
              "      <td>[59625]</td>\n",
              "    </tr>\n",
              "    <tr>\n",
              "      <th>1</th>\n",
              "      <td>12899780</td>\n",
              "      <td>[1142000, 582732, 973453, 736515, 1142000]</td>\n",
              "    </tr>\n",
              "    <tr>\n",
              "      <th>2</th>\n",
              "      <td>12899781</td>\n",
              "      <td>[141736, 199008, 57315, 194067, 199008, 199008...</td>\n",
              "    </tr>\n",
              "    <tr>\n",
              "      <th>3</th>\n",
              "      <td>12899782</td>\n",
              "      <td>[476063, 779477, 975116, 595994, 1344773, 1711...</td>\n",
              "    </tr>\n",
              "    <tr>\n",
              "      <th>4</th>\n",
              "      <td>12899783</td>\n",
              "      <td>[255297, 1114789, 255297, 300127, 198385, 3001...</td>\n",
              "    </tr>\n",
              "  </tbody>\n",
              "</table>\n",
              "</div>"
            ],
            "text/plain": [
              "    session                                                  0\n",
              "0  12899779                                            [59625]\n",
              "1  12899780         [1142000, 582732, 973453, 736515, 1142000]\n",
              "2  12899781  [141736, 199008, 57315, 194067, 199008, 199008...\n",
              "3  12899782  [476063, 779477, 975116, 595994, 1344773, 1711...\n",
              "4  12899783  [255297, 1114789, 255297, 300127, 198385, 3001..."
            ]
          },
          "execution_count": 53,
          "metadata": {},
          "output_type": "execute_result"
        }
      ],
      "source": [
        "# Agrupamos los productos por sesion tomando los ultimos 20 registros\n",
        "\n",
        "pred_df = df_test.sort_values([\"session\", \"type\", \"ts\"])\n",
        "pred_df = pred_df.groupby([\"session\"]).apply(lambda x: last_20(x)).reset_index()\n",
        "\n",
        "pred_df.head()"
      ]
    },
    {
      "cell_type": "code",
      "execution_count": 58,
      "metadata": {
        "colab": {
          "base_uri": "https://localhost:8080/",
          "height": 424
        },
        "id": "OC-nxBShefOC",
        "outputId": "dd0e5694-e6fd-4733-e1bb-93c1f877d0df"
      },
      "outputs": [
        {
          "data": {
            "text/html": [
              "<div>\n",
              "<style scoped>\n",
              "    .dataframe tbody tr th:only-of-type {\n",
              "        vertical-align: middle;\n",
              "    }\n",
              "\n",
              "    .dataframe tbody tr th {\n",
              "        vertical-align: top;\n",
              "    }\n",
              "\n",
              "    .dataframe thead th {\n",
              "        text-align: right;\n",
              "    }\n",
              "</style>\n",
              "<table border=\"1\" class=\"dataframe\">\n",
              "  <thead>\n",
              "    <tr style=\"text-align: right;\">\n",
              "      <th></th>\n",
              "      <th>session</th>\n",
              "      <th>labels</th>\n",
              "    </tr>\n",
              "  </thead>\n",
              "  <tbody>\n",
              "    <tr>\n",
              "      <th>0</th>\n",
              "      <td>12899779_clicks</td>\n",
              "      <td>[59625]</td>\n",
              "    </tr>\n",
              "    <tr>\n",
              "      <th>1</th>\n",
              "      <td>12899780_clicks</td>\n",
              "      <td>[1142000, 582732, 973453, 736515, 1142000]</td>\n",
              "    </tr>\n",
              "    <tr>\n",
              "      <th>2</th>\n",
              "      <td>12899781_clicks</td>\n",
              "      <td>[141736, 199008, 57315, 194067, 199008, 199008...</td>\n",
              "    </tr>\n",
              "    <tr>\n",
              "      <th>3</th>\n",
              "      <td>12899782_clicks</td>\n",
              "      <td>[476063, 779477, 975116, 595994, 1344773, 1711...</td>\n",
              "    </tr>\n",
              "    <tr>\n",
              "      <th>4</th>\n",
              "      <td>12899783_clicks</td>\n",
              "      <td>[255297, 1114789, 255297, 300127, 198385, 3001...</td>\n",
              "    </tr>\n",
              "    <tr>\n",
              "      <th>...</th>\n",
              "      <td>...</td>\n",
              "      <td>...</td>\n",
              "    </tr>\n",
              "    <tr>\n",
              "      <th>1671798</th>\n",
              "      <td>14571577_clicks</td>\n",
              "      <td>[1141710]</td>\n",
              "    </tr>\n",
              "    <tr>\n",
              "      <th>1671799</th>\n",
              "      <td>14571578_clicks</td>\n",
              "      <td>[519105]</td>\n",
              "    </tr>\n",
              "    <tr>\n",
              "      <th>1671800</th>\n",
              "      <td>14571579_clicks</td>\n",
              "      <td>[739876]</td>\n",
              "    </tr>\n",
              "    <tr>\n",
              "      <th>1671801</th>\n",
              "      <td>14571580_clicks</td>\n",
              "      <td>[202353]</td>\n",
              "    </tr>\n",
              "    <tr>\n",
              "      <th>1671802</th>\n",
              "      <td>14571581_clicks</td>\n",
              "      <td>[1100210]</td>\n",
              "    </tr>\n",
              "  </tbody>\n",
              "</table>\n",
              "<p>1671803 rows × 2 columns</p>\n",
              "</div>"
            ],
            "text/plain": [
              "                 session                                             labels\n",
              "0        12899779_clicks                                            [59625]\n",
              "1        12899780_clicks         [1142000, 582732, 973453, 736515, 1142000]\n",
              "2        12899781_clicks  [141736, 199008, 57315, 194067, 199008, 199008...\n",
              "3        12899782_clicks  [476063, 779477, 975116, 595994, 1344773, 1711...\n",
              "4        12899783_clicks  [255297, 1114789, 255297, 300127, 198385, 3001...\n",
              "...                  ...                                                ...\n",
              "1671798  14571577_clicks                                          [1141710]\n",
              "1671799  14571578_clicks                                           [519105]\n",
              "1671800  14571579_clicks                                           [739876]\n",
              "1671801  14571580_clicks                                           [202353]\n",
              "1671802  14571581_clicks                                          [1100210]\n",
              "\n",
              "[1671803 rows x 2 columns]"
            ]
          },
          "execution_count": 58,
          "metadata": {},
          "output_type": "execute_result"
        }
      ],
      "source": [
        "# Para el envio debemos tener el dataframe con las columnas como 'session_type' y 'labels' \n",
        "# Se le crea un sufijo a cada session, según tipo de evento.\n",
        "\n",
        "clicks_pred = pred_df.copy()\n",
        "clicks_pred['session'] = clicks_pred['session'].astype(str) + '_clicks'\n",
        "\n",
        "carts_pred = pred_df.copy()\n",
        "carts_pred['session'] = carts_pred['session'].astype(str) + '_carts'\n",
        "\n",
        "orders_pred = pred_df.copy()\n",
        "orders_pred['session'] = orders_pred['session'].astype(str) + '_orders'\n",
        "\n",
        "clicks_pred.rename(columns = {0:'labels'}, inplace = True)\n",
        "carts_pred.rename(columns = {0:'labels'}, inplace = True)\n",
        "orders_pred.rename(columns = {0:'labels'}, inplace = True)\n",
        "\n",
        "clicks_pred"
      ]
    },
    {
      "cell_type": "code",
      "execution_count": 60,
      "metadata": {
        "colab": {
          "base_uri": "https://localhost:8080/",
          "height": 424
        },
        "id": "IM4A_XdYfT-n",
        "outputId": "a7de494d-e2e2-43eb-af4c-088c928e453e"
      },
      "outputs": [
        {
          "data": {
            "text/html": [
              "<div>\n",
              "<style scoped>\n",
              "    .dataframe tbody tr th:only-of-type {\n",
              "        vertical-align: middle;\n",
              "    }\n",
              "\n",
              "    .dataframe tbody tr th {\n",
              "        vertical-align: top;\n",
              "    }\n",
              "\n",
              "    .dataframe thead th {\n",
              "        text-align: right;\n",
              "    }\n",
              "</style>\n",
              "<table border=\"1\" class=\"dataframe\">\n",
              "  <thead>\n",
              "    <tr style=\"text-align: right;\">\n",
              "      <th></th>\n",
              "      <th>session</th>\n",
              "      <th>labels</th>\n",
              "    </tr>\n",
              "  </thead>\n",
              "  <tbody>\n",
              "    <tr>\n",
              "      <th>0</th>\n",
              "      <td>12899779_clicks</td>\n",
              "      <td>59625 129004 126836 118524 113279 105091 91325...</td>\n",
              "    </tr>\n",
              "    <tr>\n",
              "      <th>1</th>\n",
              "      <td>12899780_clicks</td>\n",
              "      <td>1142000 582732 973453 736515 1142000 129004 12...</td>\n",
              "    </tr>\n",
              "    <tr>\n",
              "      <th>2</th>\n",
              "      <td>12899781_clicks</td>\n",
              "      <td>141736 199008 57315 194067 199008 199008 19900...</td>\n",
              "    </tr>\n",
              "    <tr>\n",
              "      <th>3</th>\n",
              "      <td>12899782_clicks</td>\n",
              "      <td>476063 779477 975116 595994 1344773 1711180 12...</td>\n",
              "    </tr>\n",
              "    <tr>\n",
              "      <th>4</th>\n",
              "      <td>12899783_clicks</td>\n",
              "      <td>255297 1114789 255297 300127 198385 300127 172...</td>\n",
              "    </tr>\n",
              "    <tr>\n",
              "      <th>...</th>\n",
              "      <td>...</td>\n",
              "      <td>...</td>\n",
              "    </tr>\n",
              "    <tr>\n",
              "      <th>1671798</th>\n",
              "      <td>14571577_clicks</td>\n",
              "      <td>1141710 129004 126836 118524 113279 105091 913...</td>\n",
              "    </tr>\n",
              "    <tr>\n",
              "      <th>1671799</th>\n",
              "      <td>14571578_clicks</td>\n",
              "      <td>519105 129004 126836 118524 113279 105091 9132...</td>\n",
              "    </tr>\n",
              "    <tr>\n",
              "      <th>1671800</th>\n",
              "      <td>14571579_clicks</td>\n",
              "      <td>739876 129004 126836 118524 113279 105091 9132...</td>\n",
              "    </tr>\n",
              "    <tr>\n",
              "      <th>1671801</th>\n",
              "      <td>14571580_clicks</td>\n",
              "      <td>202353 129004 126836 118524 113279 105091 9132...</td>\n",
              "    </tr>\n",
              "    <tr>\n",
              "      <th>1671802</th>\n",
              "      <td>14571581_clicks</td>\n",
              "      <td>1100210 129004 126836 118524 113279 105091 913...</td>\n",
              "    </tr>\n",
              "  </tbody>\n",
              "</table>\n",
              "<p>1671803 rows × 2 columns</p>\n",
              "</div>"
            ],
            "text/plain": [
              "                 session                                             labels\n",
              "0        12899779_clicks  59625 129004 126836 118524 113279 105091 91325...\n",
              "1        12899780_clicks  1142000 582732 973453 736515 1142000 129004 12...\n",
              "2        12899781_clicks  141736 199008 57315 194067 199008 199008 19900...\n",
              "3        12899782_clicks  476063 779477 975116 595994 1344773 1711180 12...\n",
              "4        12899783_clicks  255297 1114789 255297 300127 198385 300127 172...\n",
              "...                  ...                                                ...\n",
              "1671798  14571577_clicks  1141710 129004 126836 118524 113279 105091 913...\n",
              "1671799  14571578_clicks  519105 129004 126836 118524 113279 105091 9132...\n",
              "1671800  14571579_clicks  739876 129004 126836 118524 113279 105091 9132...\n",
              "1671801  14571580_clicks  202353 129004 126836 118524 113279 105091 9132...\n",
              "1671802  14571581_clicks  1100210 129004 126836 118524 113279 105091 913...\n",
              "\n",
              "[1671803 rows x 2 columns]"
            ]
          },
          "execution_count": 60,
          "metadata": {},
          "output_type": "execute_result"
        }
      ],
      "source": [
        "#Aquellas sesiones con menos de 20 productos vistos, se rellenan 20 productos con los mas populares \n",
        "clicks_pred['labels'] = clicks_pred['labels'].apply(lambda x: refill_top_20(x))\n",
        "carts_pred['labels'] = carts_pred['labels'].apply(lambda x: refill_top_20(x))\n",
        "orders_pred['labels'] = orders_pred['labels'].apply(lambda x: refill_top_20(x))\n",
        "\n",
        "clicks_pred"
      ]
    },
    {
      "cell_type": "code",
      "execution_count": 61,
      "metadata": {
        "colab": {
          "base_uri": "https://localhost:8080/",
          "height": 424
        },
        "id": "B0KLtOMBtuo0",
        "outputId": "cf1d0199-00b8-4450-a157-f52e0a816203"
      },
      "outputs": [
        {
          "data": {
            "text/html": [
              "<div>\n",
              "<style scoped>\n",
              "    .dataframe tbody tr th:only-of-type {\n",
              "        vertical-align: middle;\n",
              "    }\n",
              "\n",
              "    .dataframe tbody tr th {\n",
              "        vertical-align: top;\n",
              "    }\n",
              "\n",
              "    .dataframe thead th {\n",
              "        text-align: right;\n",
              "    }\n",
              "</style>\n",
              "<table border=\"1\" class=\"dataframe\">\n",
              "  <thead>\n",
              "    <tr style=\"text-align: right;\">\n",
              "      <th></th>\n",
              "      <th>session_type</th>\n",
              "      <th>labels</th>\n",
              "    </tr>\n",
              "  </thead>\n",
              "  <tbody>\n",
              "    <tr>\n",
              "      <th>0</th>\n",
              "      <td>12899779_clicks</td>\n",
              "      <td>59625 129004 126836 118524 113279 105091 91325...</td>\n",
              "    </tr>\n",
              "    <tr>\n",
              "      <th>1</th>\n",
              "      <td>12899780_clicks</td>\n",
              "      <td>1142000 582732 973453 736515 1142000 129004 12...</td>\n",
              "    </tr>\n",
              "    <tr>\n",
              "      <th>2</th>\n",
              "      <td>12899781_clicks</td>\n",
              "      <td>141736 199008 57315 194067 199008 199008 19900...</td>\n",
              "    </tr>\n",
              "    <tr>\n",
              "      <th>3</th>\n",
              "      <td>12899782_clicks</td>\n",
              "      <td>476063 779477 975116 595994 1344773 1711180 12...</td>\n",
              "    </tr>\n",
              "    <tr>\n",
              "      <th>4</th>\n",
              "      <td>12899783_clicks</td>\n",
              "      <td>255297 1114789 255297 300127 198385 300127 172...</td>\n",
              "    </tr>\n",
              "    <tr>\n",
              "      <th>...</th>\n",
              "      <td>...</td>\n",
              "      <td>...</td>\n",
              "    </tr>\n",
              "    <tr>\n",
              "      <th>1671798</th>\n",
              "      <td>14571577_carts</td>\n",
              "      <td>1141710 129004 126836 118524 113279 105091 913...</td>\n",
              "    </tr>\n",
              "    <tr>\n",
              "      <th>1671799</th>\n",
              "      <td>14571578_carts</td>\n",
              "      <td>519105 129004 126836 118524 113279 105091 9132...</td>\n",
              "    </tr>\n",
              "    <tr>\n",
              "      <th>1671800</th>\n",
              "      <td>14571579_carts</td>\n",
              "      <td>739876 129004 126836 118524 113279 105091 9132...</td>\n",
              "    </tr>\n",
              "    <tr>\n",
              "      <th>1671801</th>\n",
              "      <td>14571580_carts</td>\n",
              "      <td>202353 129004 126836 118524 113279 105091 9132...</td>\n",
              "    </tr>\n",
              "    <tr>\n",
              "      <th>1671802</th>\n",
              "      <td>14571581_carts</td>\n",
              "      <td>1100210 129004 126836 118524 113279 105091 913...</td>\n",
              "    </tr>\n",
              "  </tbody>\n",
              "</table>\n",
              "<p>5015409 rows × 2 columns</p>\n",
              "</div>"
            ],
            "text/plain": [
              "            session_type                                             labels\n",
              "0        12899779_clicks  59625 129004 126836 118524 113279 105091 91325...\n",
              "1        12899780_clicks  1142000 582732 973453 736515 1142000 129004 12...\n",
              "2        12899781_clicks  141736 199008 57315 194067 199008 199008 19900...\n",
              "3        12899782_clicks  476063 779477 975116 595994 1344773 1711180 12...\n",
              "4        12899783_clicks  255297 1114789 255297 300127 198385 300127 172...\n",
              "...                  ...                                                ...\n",
              "1671798   14571577_carts  1141710 129004 126836 118524 113279 105091 913...\n",
              "1671799   14571578_carts  519105 129004 126836 118524 113279 105091 9132...\n",
              "1671800   14571579_carts  739876 129004 126836 118524 113279 105091 9132...\n",
              "1671801   14571580_carts  202353 129004 126836 118524 113279 105091 9132...\n",
              "1671802   14571581_carts  1100210 129004 126836 118524 113279 105091 913...\n",
              "\n",
              "[5015409 rows x 2 columns]"
            ]
          },
          "execution_count": 61,
          "metadata": {},
          "output_type": "execute_result"
        }
      ],
      "source": [
        "# Se prepara el dataset para cargarse a la plataforma\n",
        "pred_df = pd.concat([clicks_pred, orders_pred, carts_pred])\n",
        "pred_df.columns = ['session_type', 'labels']\n",
        "pred_df"
      ]
    },
    {
      "cell_type": "code",
      "execution_count": 62,
      "metadata": {
        "colab": {
          "base_uri": "https://localhost:8080/",
          "height": 424
        },
        "id": "FfXMX0R-tvcV",
        "outputId": "2e0b51ae-0ab8-4223-faf9-6058b0878115"
      },
      "outputs": [
        {
          "data": {
            "text/html": [
              "<div>\n",
              "<style scoped>\n",
              "    .dataframe tbody tr th:only-of-type {\n",
              "        vertical-align: middle;\n",
              "    }\n",
              "\n",
              "    .dataframe tbody tr th {\n",
              "        vertical-align: top;\n",
              "    }\n",
              "\n",
              "    .dataframe thead th {\n",
              "        text-align: right;\n",
              "    }\n",
              "</style>\n",
              "<table border=\"1\" class=\"dataframe\">\n",
              "  <thead>\n",
              "    <tr style=\"text-align: right;\">\n",
              "      <th></th>\n",
              "      <th>session_type</th>\n",
              "      <th>labels</th>\n",
              "    </tr>\n",
              "  </thead>\n",
              "  <tbody>\n",
              "    <tr>\n",
              "      <th>0</th>\n",
              "      <td>12899779_carts</td>\n",
              "      <td>59625 129004 126836 118524 113279 105091 91325...</td>\n",
              "    </tr>\n",
              "    <tr>\n",
              "      <th>1</th>\n",
              "      <td>12899779_clicks</td>\n",
              "      <td>59625 129004 126836 118524 113279 105091 91325...</td>\n",
              "    </tr>\n",
              "    <tr>\n",
              "      <th>2</th>\n",
              "      <td>12899779_orders</td>\n",
              "      <td>59625 129004 126836 118524 113279 105091 91325...</td>\n",
              "    </tr>\n",
              "    <tr>\n",
              "      <th>3</th>\n",
              "      <td>12899780_carts</td>\n",
              "      <td>1142000 582732 973453 736515 1142000 129004 12...</td>\n",
              "    </tr>\n",
              "    <tr>\n",
              "      <th>4</th>\n",
              "      <td>12899780_clicks</td>\n",
              "      <td>1142000 582732 973453 736515 1142000 129004 12...</td>\n",
              "    </tr>\n",
              "    <tr>\n",
              "      <th>...</th>\n",
              "      <td>...</td>\n",
              "      <td>...</td>\n",
              "    </tr>\n",
              "    <tr>\n",
              "      <th>5015404</th>\n",
              "      <td>14571580_clicks</td>\n",
              "      <td>202353 129004 126836 118524 113279 105091 9132...</td>\n",
              "    </tr>\n",
              "    <tr>\n",
              "      <th>5015405</th>\n",
              "      <td>14571580_orders</td>\n",
              "      <td>202353 129004 126836 118524 113279 105091 9132...</td>\n",
              "    </tr>\n",
              "    <tr>\n",
              "      <th>5015406</th>\n",
              "      <td>14571581_carts</td>\n",
              "      <td>1100210 129004 126836 118524 113279 105091 913...</td>\n",
              "    </tr>\n",
              "    <tr>\n",
              "      <th>5015407</th>\n",
              "      <td>14571581_clicks</td>\n",
              "      <td>1100210 129004 126836 118524 113279 105091 913...</td>\n",
              "    </tr>\n",
              "    <tr>\n",
              "      <th>5015408</th>\n",
              "      <td>14571581_orders</td>\n",
              "      <td>1100210 129004 126836 118524 113279 105091 913...</td>\n",
              "    </tr>\n",
              "  </tbody>\n",
              "</table>\n",
              "<p>5015409 rows × 2 columns</p>\n",
              "</div>"
            ],
            "text/plain": [
              "            session_type                                             labels\n",
              "0         12899779_carts  59625 129004 126836 118524 113279 105091 91325...\n",
              "1        12899779_clicks  59625 129004 126836 118524 113279 105091 91325...\n",
              "2        12899779_orders  59625 129004 126836 118524 113279 105091 91325...\n",
              "3         12899780_carts  1142000 582732 973453 736515 1142000 129004 12...\n",
              "4        12899780_clicks  1142000 582732 973453 736515 1142000 129004 12...\n",
              "...                  ...                                                ...\n",
              "5015404  14571580_clicks  202353 129004 126836 118524 113279 105091 9132...\n",
              "5015405  14571580_orders  202353 129004 126836 118524 113279 105091 9132...\n",
              "5015406   14571581_carts  1100210 129004 126836 118524 113279 105091 913...\n",
              "5015407  14571581_clicks  1100210 129004 126836 118524 113279 105091 913...\n",
              "5015408  14571581_orders  1100210 129004 126836 118524 113279 105091 913...\n",
              "\n",
              "[5015409 rows x 2 columns]"
            ]
          },
          "execution_count": 62,
          "metadata": {},
          "output_type": "execute_result"
        }
      ],
      "source": [
        "pred_df = pred_df.sort_values(by='session_type').reset_index()\n",
        "pred_df = pred_df.drop('index', axis=1)\n",
        "pred_df"
      ]
    },
    {
      "cell_type": "code",
      "execution_count": 63,
      "metadata": {
        "id": "qoIMsTplJgLO"
      },
      "outputs": [],
      "source": [
        "#Este csv es el que se sube a la plataforma.\n",
        "pred_df.to_csv(\"submission.csv\", index=False)"
      ]
    }
  ],
  "metadata": {
    "colab": {
      "provenance": []
    },
    "kernelspec": {
      "display_name": "Python 3.10.8 ('venv': venv)",
      "language": "python",
      "name": "python3"
    },
    "language_info": {
      "codemirror_mode": {
        "name": "ipython",
        "version": 3
      },
      "file_extension": ".py",
      "mimetype": "text/x-python",
      "name": "python",
      "nbconvert_exporter": "python",
      "pygments_lexer": "ipython3",
      "version": "3.10.8"
    },
    "vscode": {
      "interpreter": {
        "hash": "fadea3e5af41c75d2c80e271afa98bdac0e4a5c80de4059df8b65c24470a78c8"
      }
    }
  },
  "nbformat": 4,
  "nbformat_minor": 0
}
